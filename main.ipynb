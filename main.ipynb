{
 "cells": [
  {
   "cell_type": "code",
   "execution_count": 76,
   "id": "05ca8284",
   "metadata": {},
   "outputs": [],
   "source": [
    "#importing libraries\n",
    "import csv\n",
    "from pathlib import Path "
   ]
  },
  {
   "cell_type": "code",
   "execution_count": 77,
   "id": "eaf86a78",
   "metadata": {},
   "outputs": [],
   "source": [
    "#attaching the budget file\n",
    "budget_data_path = Path(\"./Resources/budget_data.csv\")"
   ]
  },
  {
   "cell_type": "code",
   "execution_count": 78,
   "id": "7edb8d5c",
   "metadata": {},
   "outputs": [],
   "source": [
    "#setting up object lists\n",
    "total_months = 0\n",
    "net_pnl = 0\n",
    "average_pnl = 0\n",
    "greatest_increase = [\"\",0]\n",
    "greatest_decrease = [\"\",99999999999999]\n",
    "months_list = []\n",
    "changes_list = []"
   ]
  },
  {
   "cell_type": "code",
   "execution_count": 79,
   "id": "75891d98",
   "metadata": {},
   "outputs": [],
   "source": [
    "# Setting up With Statement and the CSV reader.\n",
    "with open(budget_data_path) as budget_data:\n",
    "    reader = csv.reader(budget_data)\n",
    "    # Skipping the Header.\n",
    "    header = next(reader)\n",
    "    # Setting Up Loops.\n",
    "    row_1 = next(reader)\n",
    "    # Making Total Months Increase by 1.\n",
    "    total_months += 1\n",
    "    # Net pnl Equals the first row second object. \n",
    "    net_pnl += int(row_1[1])\n",
    "    # Setting Up Previous pnl.\n",
    "    previous_pnl = int(row_1[1])\n",
    "    # Setting Up For Statementwith Looping Functions.\n",
    "    for budget in reader:\n",
    "        total_months += 1\n",
    "        net_pnl += int(budget[1])\n",
    "        change = int(budget[1]) - previous_pnl \n",
    "        previous_pnl = int(budget[1])\n",
    "        # Making Updates to the change list and month list. \n",
    "        changes_list.append(change)\n",
    "        months_list.append(budget[0])\n",
    "        # Keeping Largest Increase.\n",
    "        if change > greatest_increase[1]:\n",
    "            greatest_increase[0]= budget[0]\n",
    "            greatest_increase[1] = change \n",
    "        # Keeping Largest Decrease:\n",
    "        if change < greatest_decrease[1]:\n",
    "            greatest_decrease[0] = budget[0]\n",
    "            greatest_decrease[1] = change\n",
    "\n",
    "\n",
    "\n",
    "\n",
    "\n"
   ]
  },
  {
   "cell_type": "code",
   "execution_count": 80,
   "id": "49c380f6",
   "metadata": {},
   "outputs": [
    {
     "name": "stdout",
     "output_type": "stream",
     "text": [
      "-2315.1176470588234\n"
     ]
    }
   ],
   "source": [
    "# Making Average Calculation.\n",
    "average_change_pnl = sum(changes_list) / len(changes_list)\n",
    "print(average_change_pnl)"
   ]
  },
  {
   "cell_type": "code",
   "execution_count": 81,
   "id": "f7bcebea",
   "metadata": {},
   "outputs": [
    {
     "name": "stdout",
     "output_type": "stream",
     "text": [
      "Financial Analysis\n",
      "----------------------------\n",
      "total_months: 86\n",
      "Total Profit/Loss: $38382578\n",
      "Average Change: $-2315.1176470588234\n",
      "Greatest Increase in Profits: Feb-2012, $1926159\n",
      "Greatest Decrease in Profits: Sep-2013, $-2196167\n"
     ]
    }
   ],
   "source": [
    "# Seting Up Final prints.\n",
    "print(f\"Financial Analysis\")\n",
    "print(f\"----------------------------\")\n",
    "print(f\"total_months: {total_months}\")\n",
    "print(f\"Total Profit/Loss: ${net_pnl}\")\n",
    "print(f\"Average Change: ${average_change_pnl}\")\n",
    "# The Last Two Veriables will be Split to Print Correct Format.\n",
    "print(f\"Greatest Increase in Profits: {greatest_increase[0]}, ${greatest_increase[1]}\")\n",
    "print(f\"Greatest Decrease in Profits: {greatest_decrease[0]}, ${greatest_decrease[1]}\")\n"
   ]
  },
  {
   "cell_type": "code",
   "execution_count": 82,
   "id": "81a8110b",
   "metadata": {},
   "outputs": [],
   "source": [
    "# Export Analysis to Txt File.\n",
    "with open('final_results.txt', 'w') as txt_file:\n",
    "    txt_file.write(f\"Financial Analysis\")\n",
    "    txt_file.write(\"\\n\")\n",
    "    txt_file.write(f\"-------------------------\")\n",
    "    txt_file.write(\"\\n\")\n",
    "    txt_file.write(f\"Total Months: {total_months}\")\n",
    "    txt_file.write(\"\\n\")\n",
    "    txt_file.write(f\"Total Profits/Loss: ${net_pnl}\")\n",
    "    txt_file.write(\"\\n\")\n",
    "    txt_file.write(f\"Average Change: ${average_change_pnl}\")\n",
    "    txt_file.write(\"\\n\")\n",
    "    txt_file.write(f\"Greatest Increase in Profits: {greatest_increase[0]}, ${greatest_increase[1]}\")\n",
    "    txt_file.write(\"\\n\")\n",
    "    txt_file.write(f\"Greatest Decrease in Profits: {greatest_decrease[0]}, ${greatest_decrease[1]}\")\n",
    "    \n"
   ]
  },
  {
   "cell_type": "markdown",
   "id": "7cb790b4",
   "metadata": {},
   "source": []
  }
 ],
 "metadata": {
  "kernelspec": {
   "display_name": "Python 3.9.12 ('dev')",
   "language": "python",
   "name": "python3"
  },
  "language_info": {
   "codemirror_mode": {
    "name": "ipython",
    "version": 3
   },
   "file_extension": ".py",
   "mimetype": "text/x-python",
   "name": "python",
   "nbconvert_exporter": "python",
   "pygments_lexer": "ipython3",
   "version": "3.9.12"
  },
  "vscode": {
   "interpreter": {
    "hash": "e9d479a265bbbc21498fb040855421bb93363815c5ccf1c0f75a4191ff9a567e"
   }
  }
 },
 "nbformat": 4,
 "nbformat_minor": 5
}
